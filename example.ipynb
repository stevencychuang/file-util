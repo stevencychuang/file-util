{
 "cells": [
  {
   "cell_type": "code",
   "execution_count": null,
   "metadata": {},
   "outputs": [],
   "source": [
    "from fileutil import FileParser"
   ]
  },
  {
   "cell_type": "markdown",
   "metadata": {},
   "source": [
    "# Basic usage"
   ]
  },
  {
   "cell_type": "code",
   "execution_count": null,
   "metadata": {},
   "outputs": [],
   "source": [
    "# Initialization\n",
    "parser = FileParser(r\"tmp\", \"*.py\")\n",
    "# Get the dictionary of the parsed structure\n",
    "print(\"The dictionary:\\r\\n\", parser.get_dict())\n",
    "\n",
    "# Get the list of the parsed structure\n",
    "print(\"\\r\\nThe list:\")\n",
    "for p in parser.get_list():\n",
    "    print(p)"
   ]
  },
  {
   "cell_type": "markdown",
   "metadata": {},
   "source": [
    "# Copy to the destination"
   ]
  },
  {
   "cell_type": "code",
   "execution_count": null,
   "metadata": {},
   "outputs": [],
   "source": [
    "# The simple way\n",
    "parser.cp2dst(\"tmp1\")\n",
    "\n",
    "# Alternative way with determining the destination first and then to copy\n",
    "parser.det_dst(\"tmp2\")\n",
    "parser.cp2dst()\n",
    "\n",
    "# Advanced way to preprocess the destination and then to copy\n",
    "parser.det_dst(\"tmp3\")\n",
    "parser.replace_dst({\"directory\": \"directory1\", \".py\": \".txt\"})\n",
    "parser.cp2dst()"
   ]
  },
  {
   "cell_type": "code",
   "execution_count": null,
   "metadata": {},
   "outputs": [],
   "source": []
  }
 ],
 "metadata": {
  "interpreter": {
   "hash": "03984df78ebe1e7f0d40af84e1668d11cc527b06ae97e55be6c7d36faf0101bf"
  },
  "kernelspec": {
   "display_name": "Python 3.7.11 64-bit ('py37': conda)",
   "name": "python3"
  },
  "language_info": {
   "codemirror_mode": {
    "name": "ipython",
    "version": 3
   },
   "file_extension": ".py",
   "mimetype": "text/x-python",
   "name": "python",
   "nbconvert_exporter": "python",
   "pygments_lexer": "ipython3",
   "version": "3.7.11"
  }
 },
 "nbformat": 4,
 "nbformat_minor": 2
}
